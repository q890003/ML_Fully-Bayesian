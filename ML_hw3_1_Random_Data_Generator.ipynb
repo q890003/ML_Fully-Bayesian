{
  "nbformat": 4,
  "nbformat_minor": 0,
  "metadata": {
    "colab": {
      "name": "ML_hw3_1_Random Data Generator.ipynb",
      "provenance": [],
      "collapsed_sections": [],
      "authorship_tag": "ABX9TyOEr3zXm7mCLH5wP08pJJgS",
      "include_colab_link": true
    },
    "kernelspec": {
      "name": "python3",
      "display_name": "Python 3"
    }
  },
  "cells": [
    {
      "cell_type": "markdown",
      "metadata": {
        "id": "view-in-github",
        "colab_type": "text"
      },
      "source": [
        "<a href=\"https://colab.research.google.com/github/q890003/ML_Fully-Bayesian/blob/master/ML_hw3_1_Random_Data_Generator.ipynb\" target=\"_parent\"><img src=\"https://colab.research.google.com/assets/colab-badge.svg\" alt=\"Open In Colab\"/></a>"
      ]
    },
    {
      "cell_type": "code",
      "metadata": {
        "id": "zBe7IG5IRQ0m",
        "colab_type": "code",
        "outputId": "65f3115a-1c1f-4217-e6c3-2598bbd7ca51",
        "colab": {
          "base_uri": "https://localhost:8080/",
          "height": 34
        }
      },
      "source": [
        "import numpy as np\n",
        "import math\n",
        "#Use  Box–Muller method to generate value under given N(mean, var)\n",
        "#hw3_1.a\n",
        "# mean = 28   #for test\n",
        "# var = 2.4   #for test\n",
        "mean = float(input(\"mean=\")))\n",
        "var = float(input(\"variance=\"))\n",
        "U = np.random.uniform(0,1) \n",
        "V = np.random.uniform(0,1) \n",
        "random = (-2*math.log(U))**(-1/2) * math.cos(2*math.pi*V)\n",
        "gen_value = random * var**(1/2) + mean\n",
        "print(gen_value)\n",
        "\n"
      ],
      "execution_count": 0,
      "outputs": [
        {
          "output_type": "stream",
          "text": [
            "26.87968719240784\n"
          ],
          "name": "stdout"
        }
      ]
    },
    {
      "cell_type": "code",
      "metadata": {
        "id": "_syUnsLZqszn",
        "colab_type": "code",
        "outputId": "b998ca7b-0ed2-469d-ca6a-408eea44f322",
        "colab": {
          "base_uri": "https://localhost:8080/",
          "height": 300
        }
      },
      "source": [
        "#hw3_1.b\n",
        "# import matplotlib.pyplot as plt\n",
        "\n",
        "# y = W^T* Py(x) + e, e~N(0,a)\n",
        "n, a = 3, 2                     #for test\n",
        "w_t = np.array([1, 2 , 3])      #for test\n",
        "# n = int(input(\"n=\"))\n",
        "# a = float(input(\"a=\"))\n",
        "# w_t = np.array([float(i) for i in input().split()])\n",
        "U = np.random.uniform(0,1) \n",
        "V = np.random.uniform(0,1) \n",
        "e = (-2*math.log(U))**(-1/2) * math.cos(2*math.pi*V) * a**(1/2)\n",
        "x_rand = np.random.uniform(-1,1)\n",
        "X = np.array([x**i for i in range(0,n)]).T\n",
        "y = w.dot(X) + e\n",
        "\n",
        "# ### test\n",
        "# data_x = []\n",
        "# data_y = []\n",
        "# for i in range(1000):\n",
        "#     x_rand = np.random.uniform(-1,1)\n",
        "#     X = np.array([x_rand**i for i in range(0,n)]).T\n",
        "#     U = np.random.uniform(0,1)\n",
        "#     V = np.random.uniform(0,1)\n",
        "#     e = (-2*math.log(U))**(-1/2) * math.cos(2*math.pi*V) * a**(1/2)\n",
        "#     data_x.append(x_rand)\n",
        "#     data_y.append(w_t.dot(X) + e)\n",
        "\n",
        "# plt.figure()\n",
        "# plt.scatter(data_x,data_y)\n",
        "# plt.show()"
      ],
      "execution_count": 0,
      "outputs": [
        {
          "output_type": "stream",
          "text": [
            "[1.         0.65000482 0.42250627]\n",
            "4.301589526674701\n"
          ],
          "name": "stdout"
        },
        {
          "output_type": "display_data",
          "data": {
            "image/png": "[encoded data removed]",
            "text/plain": [
              "<Figure size 432x288 with 1 Axes>"
            ]
          },
          "metadata": {
            "tags": [],
            "needs_background": "light"
          }
        }
      ]
    }
  ]
}
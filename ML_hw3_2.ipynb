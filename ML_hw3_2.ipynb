{
  "nbformat": 4,
  "nbformat_minor": 0,
  "metadata": {
    "colab": {
      "name": "ML_hw3_2.ipynb",
      "provenance": [],
      "collapsed_sections": [],
      "authorship_tag": "ABX9TyO1OoDwXWnirMqkc87VBKeu",
      "include_colab_link": true
    },
    "kernelspec": {
      "name": "python3",
      "display_name": "Python 3"
    }
  },
  "cells": [
    {
      "cell_type": "markdown",
      "metadata": {
        "id": "view-in-github",
        "colab_type": "text"
      },
      "source": [
        "<a href=\"https://colab.research.google.com/github/q890003/ML_Fully-Bayesian/blob/master/ML_hw3_2.ipynb\" target=\"_parent\"><img src=\"https://colab.research.google.com/assets/colab-badge.svg\" alt=\"Open In Colab\"/></a>"
      ]
    },
    {
      "cell_type": "code",
      "metadata": {
        "id": "RirFi29G0p7q",
        "colab_type": "code",
        "colab": {
          "base_uri": "https://localhost:8080/",
          "height": 140
        },
        "outputId": "085075da-d3f9-4ba7-a594-a2b646dc286d"
      },
      "source": [
        "import numpy as np\n",
        "import math\n",
        "\n",
        "#Use  Box–Muller method to generate value under given N(mean, var)\n",
        "# mean = float(input(\"mean=\"))\n",
        "# var = float(input(\"var=\"))\n",
        "mean,var = 3, 5   #for test\n",
        "print(\"Data point source function: N({mean}, {variance}) \\n\\n\".format(mean = mean, variance = var))\n",
        "# data_collect = np.zeros((0),dtype=float)\n",
        "# np.set_printoptions(precision=15)\n",
        "data_sum, sum_sq = 0, 0\n",
        "old_mean, old_var = 0, 0\n",
        "num = 0\n",
        "estimation_converge = False\n",
        "while estimation_converge == False:\n",
        "    num += 1\n",
        "    U = np.random.uniform(0,1)\n",
        "    V = np.random.uniform(0,1)\n",
        "    random = (-2*math.log(U))**(-1/2) * math.cos(2*math.pi*V)\n",
        "    gen_value = random * var**(1/2) + mean\n",
        "    print(\"Add data point: {new_data}\".format(new_data = gen_value))\n",
        "\n",
        "\n",
        "    new_mean = old_mean + (gen_value-old_mean) /num\n",
        "    new_var = old_var + ((gen_value-old_mean)*(gen_value-new_mean) - old_var) /num\n",
        "    print(\"Mean = {new_mean}    Variance = {new_var}\".format(new_mean = new_mean, new_var = new_var))\n",
        "\n",
        "    estimation_converge = abs(new_mean - old_mean) < 0.001 and abs(new_var - old_var) < 0.001\n",
        "    old_mean , old_var = new_mean, new_var"
      ],
      "execution_count": 38,
      "outputs": [
        {
          "output_type": "stream",
          "text": [
            "Data point source function: N(3, 5) \n",
            "\n",
            "\n",
            "Add data point: 12.529334600468847\n",
            "Mean = 12.529334600468847    Variance = 0.0\n",
            "Add data point: 7.021362609353238\n",
            "Mean = 9.775348604911041    Variance = 7.584438863728508\n"
          ],
          "name": "stdout"
        }
      ]
    }
  ]
}